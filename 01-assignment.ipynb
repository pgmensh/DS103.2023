{
 "cells": [
  {
   "cell_type": "markdown",
   "id": "fffcbb2c-4423-4f1c-bc90-e1ac7fbaa456",
   "metadata": {},
   "source": [
    "# Задания "
   ]
  },
  {
   "cell_type": "markdown",
   "id": "c2d747fe-7b74-43e0-95b3-16525e9846ac",
   "metadata": {},
   "source": [
    "## Task 1"
   ]
  },
  {
   "cell_type": "markdown",
   "id": "2e2f1076-fd27-4222-95e9-d3b7ff8ff36a",
   "metadata": {},
   "source": [
    "Напиши код, который будет решать квадратное уравнение вида\n",
    "$ ax^2 + bx + c = 0, a\\neq0$. \\\n",
    "Для этого понадобится найти дискриминант. Его формула $ D = b^2 − 4ac $"
   ]
  },
  {
   "cell_type": "markdown",
   "id": "20bf557b-21f9-46fa-b8db-76b7a96526f4",
   "metadata": {},
   "source": [
    "Для начала напиши формулу нахождения корней квадратного уравнения на языке LaTeX\n",
    "\n",
    "При $ D > 0 $:\n",
    "\n",
    "\n",
    "$ x_{1,2} = \\frac{ -b  \\pm  \\sqrt{D}}{2a} $"
   ]
  },
  {
   "cell_type": "markdown",
   "id": "b2c44130",
   "metadata": {},
   "source": [
    "При $ D = 0 $:\n",
    "\n",
    "$ x = \\frac{-b}{2a} $\n",
    "\n",
    "При $ D < 0 $:\n",
    "корней нет"
   ]
  },
  {
   "cell_type": "markdown",
   "id": "c78b058d-777d-4369-b86d-0c0fc013eba9",
   "metadata": {},
   "source": [
    "Теперь, когда ты вспомнил как находить корни, приступай к написанию функции:\n",
    "- Функция принимает на вход коэффициент a, b, c.\n",
    "- Функция должна возвращать кортеж корней уравнения. \n",
    "- Если корней у уравнения нет, то функция должна вернуть None"
   ]
  },
  {
   "cell_type": "code",
   "execution_count": 100,
   "id": "03b8b371-870b-42cc-8f53-1e8596406894",
   "metadata": {},
   "outputs": [],
   "source": [
    "def quadratic_equation(a, b, c):\n",
    "    if a == 0:\n",
    "        return print(\"При a = 0 уравнение не является квадратным. Вызовите функцию с аргументом a, отличным от нуля.\")\n",
    "        \n",
    "    D = b**2 - 4*a*c \n",
    "    #Раскомментировать для отладки (если нужно проверить дискриминант):\n",
    "    #print(D)\n",
    "            \n",
    "    if D < 0:\n",
    "        return None\n",
    "    \n",
    "    x_1 = round(((-b + D**0.5) / 2*a), 2)\n",
    "    x_2 = round(((-b - D**0.5) / 2*a), 2)\n",
    "    \n",
    "    if D == 0:\n",
    "        return (x_1) #если тут необходимо получить список из 1-го элемента, то добавляем запятую: (x_1,)\n",
    "    else:\n",
    "        return (x_1, x_2)\n",
    "        \n",
    "    pass"
   ]
  },
  {
   "cell_type": "code",
   "execution_count": 103,
   "id": "69c020b2",
   "metadata": {},
   "outputs": [],
   "source": [
    "#Раскомментировать для проверки работы функции с разными аргументами:\n",
    "#quadratic_equation(0, 1, 1)\n",
    "#quadratic_equation(1, 12, 36)\n",
    "#quadratic_equation(2, 2, -5)\n",
    "#print(quadratic_equation(2, 4, 3))"
   ]
  },
  {
   "cell_type": "markdown",
   "id": "3aeab2c8",
   "metadata": {},
   "source": [
    "## Task 2"
   ]
  },
  {
   "cell_type": "markdown",
   "id": "816c48be-0963-4bd6-bd86-c8172eb8968e",
   "metadata": {},
   "source": [
    "Функция, которая на вход принимает cписок случайных чисел, а возвращает уже отсортированный методом Пузырька по возрастанию."
   ]
  },
  {
   "cell_type": "code",
   "execution_count": 104,
   "id": "8ee3eb28",
   "metadata": {},
   "outputs": [
    {
     "name": "stdout",
     "output_type": "stream",
     "text": [
      "Введите длину списка чисел:10\n"
     ]
    }
   ],
   "source": [
    "import random #подключаем модуль для генерации списка случайных чисел\n",
    "\n",
    "length = int(input(\"Введите длину списка чисел:\"))\n",
    "lst =  random.sample(range(0, 100), length)\n",
    "\n",
    "#Раскомментировать для проверки работы функции до сортировки:\n",
    "#print(\"Исходный список:\", lst)"
   ]
  },
  {
   "cell_type": "code",
   "execution_count": 105,
   "id": "3fbaf6b3-876f-4ecf-9be6-d26181ee3a48",
   "metadata": {},
   "outputs": [],
   "source": [
    "def bubble_sort(lst):\n",
    "      \n",
    "    for i in range(len(lst)):\n",
    "        for j in range(0, len(lst)-i-1):\n",
    "            if lst[j] > lst[j+1]:\n",
    "                lst[j], lst[j+1] = lst[j+1], lst[j]\n",
    "    \n",
    "    return lst\n",
    "    \n",
    "    pass"
   ]
  },
  {
   "cell_type": "code",
   "execution_count": 107,
   "id": "51422dbe",
   "metadata": {},
   "outputs": [],
   "source": [
    "#Раскомментировать для проверки работы функции:\n",
    "#bubble_sort(lst)"
   ]
  },
  {
   "cell_type": "markdown",
   "id": "0026496c-03a8-4fcc-907b-dfb8f3fc0efb",
   "metadata": {},
   "source": [
    "## Task 3"
   ]
  },
  {
   "cell_type": "markdown",
   "id": "688251be-39a3-49ed-9993-a5f9b39f430d",
   "metadata": {},
   "source": [
    "Самое часто встречающееся слово в романе \"Война и Мир\" без учета:\n",
    "   * Пунктуации\n",
    "   * Слов **короче четырех** символов \n",
    "   * 'Стоп-слов', которые приведены в файле в stop_words_russian.txt\n",
    "   \n",
    ">Для решения задачи достаточно использовать стандартные библиотеки Python. \\\n",
    "\n",
    ">Обязательно поделись с пирами в rocket-chat сколько раз у тебя встретилось это слово. Результаты, в зависимости от предобработки, могут чуть отличаться."
   ]
  },
  {
   "cell_type": "code",
   "execution_count": 108,
   "id": "94501d71-ee88-4f78-808d-20e79a5f3707",
   "metadata": {},
   "outputs": [
    {
     "name": "stdout",
     "output_type": "stream",
     "text": [
      "'пьер' - самое распространённое слово и встречается в тексте 1400 раз\n"
     ]
    }
   ],
   "source": [
    "punct = ['.', '!', '?', ',', ':', ';', '...', '(', ')', '-', '\"', '.', '—', '1', '2', '3', '4', '5', '6', '7', '8', '9', '0']\n",
    "\n",
    "with open('war_and_peace.txt') as file:\n",
    "    book = file.read().lower() #записываем текст книги из файла в строку\n",
    "for p in punct:\n",
    "    book = book.replace(p, '')  #убираем знаки пунктуации и цифры\n",
    "    \n",
    "word_list = book.split() #список всех слов книги\n",
    "\n",
    "with open('stop_words_russian.txt') as file:\n",
    "    stop_words = file.read().lower().splitlines() #список всех стоп-слов\n",
    "    \n",
    "words = []    \n",
    "for word in word_list:\n",
    "    if len(word) >= 4 and word not in stop_words:\n",
    "        words.append(word) #список слов от 4 символов и без стоп-слов\n",
    "\n",
    "word_cnt = {} #словарь, в который запишем слова и их частоту\n",
    "\n",
    "for word in words:\n",
    "    if word in word_cnt:\n",
    "        word_cnt[word] += 1\n",
    "    else:\n",
    "        word_cnt[word] = 1\n",
    "        \n",
    "max_word = max(word_cnt, key = word_cnt.get)\n",
    "count = word_cnt[max_word]\n",
    "\n",
    "print(f\"'{max_word}' - самое распространённое слово и встречается в тексте {count} раз\")"
   ]
  },
  {
   "cell_type": "markdown",
   "id": "d4b6f922-7a22-4b38-8529-c92994edd38c",
   "metadata": {},
   "source": [
    "## Task 4"
   ]
  },
  {
   "cell_type": "markdown",
   "id": "c2cef602-ab87-47f8-ab2c-e323442b62f7",
   "metadata": {},
   "source": [
    "Функция для расчета числа Фибоначчи с использованием рекурсивной функции."
   ]
  },
  {
   "cell_type": "code",
   "execution_count": 109,
   "id": "ec1c1860-774d-4583-a44b-bdc30492eead",
   "metadata": {},
   "outputs": [],
   "source": [
    "def fib(n):\n",
    "    if n < 2:\n",
    "        return n\n",
    "    return (fib(n - 1) + fib(n - 2))\n",
    "\n",
    "    pass"
   ]
  },
  {
   "cell_type": "code",
   "execution_count": 110,
   "id": "91a11e37",
   "metadata": {},
   "outputs": [
    {
     "data": {
      "text/plain": [
       "610"
      ]
     },
     "execution_count": 110,
     "metadata": {},
     "output_type": "execute_result"
    }
   ],
   "source": [
    "#Раскомментировать для проверки работы функции:\n",
    "#fib(15)"
   ]
  },
  {
   "cell_type": "markdown",
   "id": "1acc3069-4b1a-4a5c-98e4-055731203d2d",
   "metadata": {},
   "source": [
    "## Task 5"
   ]
  },
  {
   "cell_type": "markdown",
   "id": "944e804e-fb40-4ea2-b931-38b595d3c262",
   "metadata": {},
   "source": [
    "Функция перевода валюты в рубли."
   ]
  },
  {
   "cell_type": "code",
   "execution_count": 111,
   "id": "0c07bf1c",
   "metadata": {},
   "outputs": [],
   "source": [
    "import requests #подключаем библиотеку requests\n",
    "import json #подключаем библиотеку для перевода json-файла в словарь "
   ]
  },
  {
   "cell_type": "code",
   "execution_count": 112,
   "id": "570cfb71-5cf0-41fc-aae7-cf2b2812eaca",
   "metadata": {},
   "outputs": [],
   "source": [
    "def convert2RU(currency, value):\n",
    "    url = 'https://www.cbr-xml-daily.ru/daily_json.js' \n",
    "    full_page = requests.get(url)\n",
    "\n",
    "    dictionary = json.loads(full_page.text) #получаем словарь из файла\n",
    "\n",
    "    currency_rub = dictionary['Valute'][currency]['Value'] #получаем из словаря текущую стоимость валюты в рублях\n",
    "    \n",
    "    converted_value = currency_rub * value\n",
    "    \n",
    "    return converted_value\n",
    "\n",
    "    pass"
   ]
  },
  {
   "cell_type": "code",
   "execution_count": 116,
   "id": "b042bb16",
   "metadata": {},
   "outputs": [],
   "source": [
    "#Раскомментировать для проверки кода\n",
    "#convert2RU('USD', 550)\n",
    "#convert2RU('GBP', 100)   \n",
    "#convert2RU('EUR', 30)  "
   ]
  },
  {
   "cell_type": "markdown",
   "id": "fe1396fa-7109-48ad-a255-4d4f622c18a4",
   "metadata": {},
   "source": [
    "## *Task 6. Дополнительное задание"
   ]
  },
  {
   "cell_type": "markdown",
   "id": "71315701-39bd-4759-afd9-7bf20486b4f7",
   "metadata": {},
   "source": [
    "Написание проверки на пaлиндром."
   ]
  },
  {
   "cell_type": "markdown",
   "id": "715fd45b-eb76-4eb5-bbd8-a257035fe892",
   "metadata": {},
   "source": [
    "1. На вход функции _isPalindrome_ подается **число** (int). \\\n",
    "Функция возвращает **True**, если число является палидромом и **False** в противном случае. "
   ]
  },
  {
   "cell_type": "code",
   "execution_count": 117,
   "id": "9f48d9c7-c413-47fb-b692-ce5ad8ed9ec1",
   "metadata": {},
   "outputs": [],
   "source": [
    "def isPalindrome(x: int) -> bool:\n",
    "    str_x = str(x)\n",
    "    reverse_x = str_x[::-1]\n",
    "    \n",
    "    if str_x == reverse_x:\n",
    "        return True\n",
    "    else:\n",
    "        return False\n",
    "    \n",
    "    pass"
   ]
  },
  {
   "cell_type": "code",
   "execution_count": 120,
   "id": "84c60f75",
   "metadata": {},
   "outputs": [],
   "source": [
    "#Раскомментировать для проверки работы функции:\n",
    "#isPalindrome(525)\n",
    "#isPalindrome_v2(658)"
   ]
  },
  {
   "cell_type": "markdown",
   "id": "e86f6f7c-c3b0-4b92-bb3d-651dcc7d4706",
   "metadata": {},
   "source": [
    "2. Реализация функции без использования перевода числа в строку."
   ]
  },
  {
   "cell_type": "code",
   "execution_count": 121,
   "id": "35cf92fa-04c6-489b-9523-99d78dce4ba1",
   "metadata": {},
   "outputs": [],
   "source": [
    "def isPalindrome_v2(x: int) -> bool:\n",
    "    b = x\n",
    "    tmp = 0 #временная переменная\n",
    "    reverse = 0 #перевернутое число\n",
    "\n",
    "    while b != 0:\n",
    "            tmp = b % 10 #остаток от деления на 10 - последняя цифра\n",
    "            reverse = reverse * 10 + tmp #записываем перевернутое число с конца\n",
    "            b = b // 10 #деление по модулю на 10\n",
    "\n",
    "    if x == reverse:\n",
    "        return True\n",
    "    else:\n",
    "        return False\n",
    "    pass"
   ]
  },
  {
   "cell_type": "code",
   "execution_count": 123,
   "id": "1642133c",
   "metadata": {},
   "outputs": [
    {
     "data": {
      "text/plain": [
       "False"
      ]
     },
     "execution_count": 123,
     "metadata": {},
     "output_type": "execute_result"
    }
   ],
   "source": [
    "#Раскомментировать для проверки работы функции:\n",
    "#isPalindrome_v2(525)\n",
    "#isPalindrome_v2(658)"
   ]
  }
 ],
 "metadata": {
  "kernelspec": {
   "display_name": "Python 3 (ipykernel)",
   "language": "python",
   "name": "python3"
  },
  "language_info": {
   "codemirror_mode": {
    "name": "ipython",
    "version": 3
   },
   "file_extension": ".py",
   "mimetype": "text/x-python",
   "name": "python",
   "nbconvert_exporter": "python",
   "pygments_lexer": "ipython3",
   "version": "3.9.13"
  }
 },
 "nbformat": 4,
 "nbformat_minor": 5
}
