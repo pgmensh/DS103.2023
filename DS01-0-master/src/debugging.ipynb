{
 "cells": [
  {
   "cell_type": "code",
   "execution_count": 82,
   "id": "7a8a562a",
   "metadata": {},
   "outputs": [],
   "source": [
    "def quadratic_equation(a, b, c):\n",
    "    if a == 0:\n",
    "        return print(\"При a = 0 уравнение не является квадратным. Вызовите функцию с аргументом a, отличным от нуля.\")\n",
    "        \n",
    "    D = b**2 - 4*a*c\n",
    "    # print(D) - раскомментировать для отладки (если нужно проверить дискриминант)\n",
    "        \n",
    "    if D < 0:\n",
    "        return None\n",
    "    \n",
    "    x_1 = round(((-b + D**0.5) / 2*a), 2)\n",
    "    x_2 = round(((-b - D**0.5) / 2*a), 2)\n",
    "    \n",
    "    if D == 0:\n",
    "        answer = (x_1) #если тут необходимо получить _список_ из 1-го эл-та, то добавляем запятую: answer = (x_1,)\n",
    "    else:\n",
    "        answer =  (x_1, x_2)\n",
    "        \n",
    "    return answer"
   ]
  },
  {
   "cell_type": "code",
   "execution_count": 83,
   "id": "cd8729ac",
   "metadata": {},
   "outputs": [
    {
     "data": {
      "text/plain": [
       "-6.0"
      ]
     },
     "execution_count": 83,
     "metadata": {},
     "output_type": "execute_result"
    }
   ],
   "source": [
    "quadratic_equation(1, 12, 36)"
   ]
  },
  {
   "cell_type": "code",
   "execution_count": 86,
   "id": "45efa2e0",
   "metadata": {},
   "outputs": [
    {
     "name": "stdout",
     "output_type": "stream",
     "text": [
      "Введите длину списка чисел:5\n",
      "Исходный список: [54, 17, 35, 13, 52]\n"
     ]
    },
    {
     "data": {
      "text/plain": [
       "[13, 17, 35, 52, 54]"
      ]
     },
     "execution_count": 86,
     "metadata": {},
     "output_type": "execute_result"
    }
   ],
   "source": [
    "import random\n",
    "length = int(input(\"Введите длину списка чисел:\"))\n",
    "lst =  random.sample(range(0, 100), length)\n",
    "print(\"Исходный список:\", lst)\n",
    "\n",
    "def bubble_sort(lst):\n",
    "      \n",
    "    for i in range(len(lst)):\n",
    "        for j in range(0, len(lst)-i-1):\n",
    "            if lst[j] > lst[j+1]:\n",
    "                lst[j], lst[j+1] = lst[j+1], lst[j]\n",
    "    \n",
    "    return lst\n",
    "\n",
    "bubble_sort(lst)"
   ]
  },
  {
   "cell_type": "code",
   "execution_count": null,
   "id": "b6493776",
   "metadata": {},
   "outputs": [],
   "source": [
    "words = []\n",
    "\n",
    "for word in words_list:\n",
    "    if len(word) > 4:\n",
    "        words.append(word)"
   ]
  },
  {
   "cell_type": "code",
   "execution_count": 2,
   "id": "8422d7f0",
   "metadata": {},
   "outputs": [
    {
     "name": "stdout",
     "output_type": "stream",
     "text": [
      "'пьер' - самое распространённое слово и встречается в тексте 1400 раз\n"
     ]
    }
   ],
   "source": [
    "punct = ['.', '!', '?', ',', ':', ';', '...', '(', ')', '-', '\"', '.', '—', '1', '2', '3', '4', '5', '6', '7', '8', '9', '0']\n",
    "\n",
    "with open('war_and_peace.txt') as file:\n",
    "    book = file.read().lower() #записываем текст книги из файла в строку\n",
    "for p in punct:\n",
    "    book = book.replace(p, '')  #убираем знаки пунктуации и цифры\n",
    "    \n",
    "word_list = book.split() #список всех слов книги\n",
    "\n",
    "with open('stop_words_russian.txt') as file:\n",
    "    stop_words = file.read().lower().splitlines() #список всех стоп-слов\n",
    "    \n",
    "words = []    \n",
    "for word in word_list:\n",
    "    if len(word) >= 4 and word not in stop_words:\n",
    "        words.append(word) #список слов от 4 символов и без стоп-слов\n",
    "\n",
    "word_cnt = {} #словарь, в который запишем слова и их частоту\n",
    "\n",
    "for word in words:\n",
    "    if word in word_cnt:\n",
    "        word_cnt[word] += 1\n",
    "    else:\n",
    "        word_cnt[word] = 1\n",
    "        \n",
    "max_word = max(word_cnt, key = word_cnt.get)\n",
    "count = word_cnt[max_word]\n",
    "\n",
    "print(f\"'{max_word}' - самое распространённое слово и встречается в тексте {count} раз\")"
   ]
  },
  {
   "cell_type": "code",
   "execution_count": 127,
   "id": "b27ee644",
   "metadata": {},
   "outputs": [
    {
     "data": {
      "text/plain": [
       "10058.83"
      ]
     },
     "execution_count": 127,
     "metadata": {},
     "output_type": "execute_result"
    }
   ],
   "source": [
    "import requests #подключаем библиотеку\n",
    "import json \n",
    "\n",
    "def convert2RU(currency, value):\n",
    "    url = 'https://www.cbr-xml-daily.ru/daily_json.js' \n",
    "    full_page = requests.get(url)\n",
    "\n",
    "    dictionary = json.loads(full_page.text) #получаем словарь из файла\n",
    "\n",
    "    currency_rub = dictionary['Valute'][currency]['Value'] #получаем из словаря текущую стоимость валюты в рублях\n",
    "    \n",
    "    converted_value = currency_rub * value\n",
    "    \n",
    "    return converted_value\n",
    "\n",
    "convert2RU('GBP', 100)   "
   ]
  },
  {
   "cell_type": "code",
   "execution_count": 121,
   "id": "3e7ffe49",
   "metadata": {},
   "outputs": [],
   "source": [
    "def isPalindrome(x: int) -> bool:\n",
    "    str_x = str(x)\n",
    "    reverse_x = str_x[::-1]\n",
    "    \n",
    "    if str_x == reverse_x:\n",
    "        return True\n",
    "    else:\n",
    "        return False"
   ]
  },
  {
   "cell_type": "code",
   "execution_count": 122,
   "id": "237c6fce",
   "metadata": {},
   "outputs": [
    {
     "data": {
      "text/plain": [
       "True"
      ]
     },
     "execution_count": 122,
     "metadata": {},
     "output_type": "execute_result"
    }
   ],
   "source": [
    "isPalindrome(525)"
   ]
  },
  {
   "cell_type": "code",
   "execution_count": 132,
   "id": "7473640e",
   "metadata": {},
   "outputs": [],
   "source": [
    "def isPalindrome_v2(x: int) -> bool:\n",
    "    b = x\n",
    "    tmp = 0 #временная переменная\n",
    "    reverse = 0 #перевернутое число\n",
    "\n",
    "    while b != 0:\n",
    "            tmp = b % 10 #остаток от деления на 10 - последняя цифры\n",
    "            reverse = reverse * 10 + tmp\n",
    "            b = b // 10 #деление по модулю на 10\n",
    "\n",
    "    if x == reverse:\n",
    "        return True\n",
    "    else:\n",
    "        return False"
   ]
  },
  {
   "cell_type": "code",
   "execution_count": 133,
   "id": "db588e13",
   "metadata": {},
   "outputs": [
    {
     "data": {
      "text/plain": [
       "True"
      ]
     },
     "execution_count": 133,
     "metadata": {},
     "output_type": "execute_result"
    }
   ],
   "source": [
    "isPalindrome_v2(525)"
   ]
  },
  {
   "cell_type": "code",
   "execution_count": 131,
   "id": "b844885e",
   "metadata": {},
   "outputs": [
    {
     "name": "stdout",
     "output_type": "stream",
     "text": [
      "5\n",
      "5\n",
      "12\n",
      "2\n",
      "52\n",
      "1\n",
      "1\n",
      "521\n",
      "0\n",
      "521\n"
     ]
    }
   ],
   "source": [
    "x = 125\n",
    "b = x\n",
    "tmp = 0\n",
    "reverse = 0\n",
    "\n",
    "while b != 0:\n",
    "        tmp = b % 10 #остаток от деления на 10 - последняя цифры\n",
    "        reverse = reverse * 10 + tmp\n",
    "        b = b // 10 #деление по модулю на 10\n",
    "        \n",
    "print(reverse)"
   ]
  },
  {
   "cell_type": "code",
   "execution_count": null,
   "id": "e40888e2",
   "metadata": {},
   "outputs": [],
   "source": []
  }
 ],
 "metadata": {
  "kernelspec": {
   "display_name": "Python 3 (ipykernel)",
   "language": "python",
   "name": "python3"
  },
  "language_info": {
   "codemirror_mode": {
    "name": "ipython",
    "version": 3
   },
   "file_extension": ".py",
   "mimetype": "text/x-python",
   "name": "python",
   "nbconvert_exporter": "python",
   "pygments_lexer": "ipython3",
   "version": "3.9.13"
  }
 },
 "nbformat": 4,
 "nbformat_minor": 5
}